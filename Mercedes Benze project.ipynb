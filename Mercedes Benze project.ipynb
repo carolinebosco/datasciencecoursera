{
 "cells": [
  {
   "cell_type": "code",
   "execution_count": 18,
   "metadata": {},
   "outputs": [],
   "source": [
    "import pandas as pd\n",
    "import numpy as np\n",
    "from sklearn.model_selection import train_test_split\n",
    "from sklearn.feature_selection import VarianceThreshold\n",
    "\n",
    "dftrain = pd.read_csv(r\"C:\\Users\\SavarimuthuC\\train.csv\")\n",
    "dftest = pd.read_csv(r\"C:\\Users\\SavarimuthuC\\test.csv\")"
   ]
  },
  {
   "cell_type": "code",
   "execution_count": 19,
   "metadata": {},
   "outputs": [
    {
     "data": {
      "text/plain": [
       "(4209, 378)"
      ]
     },
     "execution_count": 19,
     "metadata": {},
     "output_type": "execute_result"
    }
   ],
   "source": [
    "dftrain.shape"
   ]
  },
  {
   "cell_type": "code",
   "execution_count": 20,
   "metadata": {},
   "outputs": [],
   "source": [
    "# get number of unique values for each column\n",
    "countstrain = dftrain.var()\n",
    "countstest = dftest.var()"
   ]
  },
  {
   "cell_type": "code",
   "execution_count": 21,
   "metadata": {},
   "outputs": [
    {
     "name": "stdout",
     "output_type": "stream",
     "text": [
      "[3, 83, 97, 219, 221, 254, 275, 276, 279, 283, 315, 332]\n",
      "[242, 243, 280, 281, 353]\n"
     ]
    }
   ],
   "source": [
    "# record columns to delete\n",
    "to_deltrain = [i for i,v in enumerate(countstrain) if v == 0]\n",
    "print(to_deltrain)\n",
    "to_deltest = [i for i,v in enumerate(countstest) if v == 0]\n",
    "print(to_deltest)"
   ]
  },
  {
   "cell_type": "code",
   "execution_count": 22,
   "metadata": {},
   "outputs": [],
   "source": [
    "# drop useless columns where var=0\n",
    "dftrain.drop(to_deltrain, inplace=True)\n",
    "dftest.drop(to_deltest, inplace=True)"
   ]
  },
  {
   "cell_type": "code",
   "execution_count": 38,
   "metadata": {},
   "outputs": [],
   "source": [
    "# remove ID and Y from the data as they are not used for learning\n",
    "# usable_columns = list(set(dftrain.columns) - set(['y']))\n",
    "y_train = dftrain['y'].values\n",
    "id_test = dftest['ID'].values\n",
    "# x_train = dftrain[usable_columns]\n",
    "# x_test = dftest[usable_columns]\n",
    "# x_train.head()"
   ]
  },
  {
   "cell_type": "code",
   "execution_count": 23,
   "metadata": {},
   "outputs": [
    {
     "data": {
      "text/plain": [
       "(4204, 377)"
      ]
     },
     "execution_count": 23,
     "metadata": {},
     "output_type": "execute_result"
    }
   ],
   "source": [
    "dftrain.shape\n",
    "dftest.shape\n"
   ]
  },
  {
   "cell_type": "code",
   "execution_count": 24,
   "metadata": {},
   "outputs": [
    {
     "name": "stdout",
     "output_type": "stream",
     "text": [
      "No Missing Values\n",
      "No Missing Values\n"
     ]
    }
   ],
   "source": [
    "# Check for null values for test and train sets\n",
    "\n",
    "def check_missing_values(df):\n",
    "    if df.isnull().any().any():\n",
    "        print(\"Missing Values are Present\")\n",
    "    else:\n",
    "        print(\"No Missing Values\")\n",
    "check_missing_values(dftrain)\n",
    "check_missing_values(dftest)"
   ]
  },
  {
   "cell_type": "code",
   "execution_count": 26,
   "metadata": {},
   "outputs": [
    {
     "name": "stdout",
     "output_type": "stream",
     "text": [
      "Values are Unique\n",
      "Values are Unique\n"
     ]
    }
   ],
   "source": [
    "# Check for unique values for test and train sets\n",
    "\n",
    "def check_unique_values(df):\n",
    "    if df.nunique().any():\n",
    "        print(\"Values are Unique\")\n",
    "    else:\n",
    "        print(\"Not Unique\")\n",
    "check_unique_values(dftrain)\n",
    "check_unique_values(dftest)"
   ]
  },
  {
   "cell_type": "code",
   "execution_count": 28,
   "metadata": {},
   "outputs": [
    {
     "data": {
      "text/html": [
       "<div>\n",
       "<style scoped>\n",
       "    .dataframe tbody tr th:only-of-type {\n",
       "        vertical-align: middle;\n",
       "    }\n",
       "\n",
       "    .dataframe tbody tr th {\n",
       "        vertical-align: top;\n",
       "    }\n",
       "\n",
       "    .dataframe thead th {\n",
       "        text-align: right;\n",
       "    }\n",
       "</style>\n",
       "<table border=\"1\" class=\"dataframe\">\n",
       "  <thead>\n",
       "    <tr style=\"text-align: right;\">\n",
       "      <th></th>\n",
       "      <th>ID</th>\n",
       "      <th>y</th>\n",
       "      <th>X0</th>\n",
       "      <th>X1</th>\n",
       "      <th>X2</th>\n",
       "      <th>X3</th>\n",
       "      <th>X4</th>\n",
       "      <th>X5</th>\n",
       "      <th>X6</th>\n",
       "      <th>X8</th>\n",
       "      <th>...</th>\n",
       "      <th>X375</th>\n",
       "      <th>X376</th>\n",
       "      <th>X377</th>\n",
       "      <th>X378</th>\n",
       "      <th>X379</th>\n",
       "      <th>X380</th>\n",
       "      <th>X382</th>\n",
       "      <th>X383</th>\n",
       "      <th>X384</th>\n",
       "      <th>X385</th>\n",
       "    </tr>\n",
       "  </thead>\n",
       "  <tbody>\n",
       "    <tr>\n",
       "      <th>0</th>\n",
       "      <td>0</td>\n",
       "      <td>130.81</td>\n",
       "      <td>k</td>\n",
       "      <td>v</td>\n",
       "      <td>at</td>\n",
       "      <td>a</td>\n",
       "      <td>d</td>\n",
       "      <td>u</td>\n",
       "      <td>j</td>\n",
       "      <td>o</td>\n",
       "      <td>...</td>\n",
       "      <td>0</td>\n",
       "      <td>0</td>\n",
       "      <td>1</td>\n",
       "      <td>0</td>\n",
       "      <td>0</td>\n",
       "      <td>0</td>\n",
       "      <td>0</td>\n",
       "      <td>0</td>\n",
       "      <td>0</td>\n",
       "      <td>0</td>\n",
       "    </tr>\n",
       "    <tr>\n",
       "      <th>1</th>\n",
       "      <td>6</td>\n",
       "      <td>88.53</td>\n",
       "      <td>k</td>\n",
       "      <td>t</td>\n",
       "      <td>av</td>\n",
       "      <td>e</td>\n",
       "      <td>d</td>\n",
       "      <td>y</td>\n",
       "      <td>l</td>\n",
       "      <td>o</td>\n",
       "      <td>...</td>\n",
       "      <td>1</td>\n",
       "      <td>0</td>\n",
       "      <td>0</td>\n",
       "      <td>0</td>\n",
       "      <td>0</td>\n",
       "      <td>0</td>\n",
       "      <td>0</td>\n",
       "      <td>0</td>\n",
       "      <td>0</td>\n",
       "      <td>0</td>\n",
       "    </tr>\n",
       "    <tr>\n",
       "      <th>2</th>\n",
       "      <td>7</td>\n",
       "      <td>76.26</td>\n",
       "      <td>az</td>\n",
       "      <td>w</td>\n",
       "      <td>n</td>\n",
       "      <td>c</td>\n",
       "      <td>d</td>\n",
       "      <td>x</td>\n",
       "      <td>j</td>\n",
       "      <td>x</td>\n",
       "      <td>...</td>\n",
       "      <td>0</td>\n",
       "      <td>0</td>\n",
       "      <td>0</td>\n",
       "      <td>0</td>\n",
       "      <td>0</td>\n",
       "      <td>0</td>\n",
       "      <td>1</td>\n",
       "      <td>0</td>\n",
       "      <td>0</td>\n",
       "      <td>0</td>\n",
       "    </tr>\n",
       "    <tr>\n",
       "      <th>4</th>\n",
       "      <td>13</td>\n",
       "      <td>78.02</td>\n",
       "      <td>az</td>\n",
       "      <td>v</td>\n",
       "      <td>n</td>\n",
       "      <td>f</td>\n",
       "      <td>d</td>\n",
       "      <td>h</td>\n",
       "      <td>d</td>\n",
       "      <td>n</td>\n",
       "      <td>...</td>\n",
       "      <td>0</td>\n",
       "      <td>0</td>\n",
       "      <td>0</td>\n",
       "      <td>0</td>\n",
       "      <td>0</td>\n",
       "      <td>0</td>\n",
       "      <td>0</td>\n",
       "      <td>0</td>\n",
       "      <td>0</td>\n",
       "      <td>0</td>\n",
       "    </tr>\n",
       "    <tr>\n",
       "      <th>5</th>\n",
       "      <td>18</td>\n",
       "      <td>92.93</td>\n",
       "      <td>t</td>\n",
       "      <td>b</td>\n",
       "      <td>e</td>\n",
       "      <td>c</td>\n",
       "      <td>d</td>\n",
       "      <td>g</td>\n",
       "      <td>h</td>\n",
       "      <td>s</td>\n",
       "      <td>...</td>\n",
       "      <td>0</td>\n",
       "      <td>0</td>\n",
       "      <td>1</td>\n",
       "      <td>0</td>\n",
       "      <td>0</td>\n",
       "      <td>0</td>\n",
       "      <td>0</td>\n",
       "      <td>0</td>\n",
       "      <td>0</td>\n",
       "      <td>0</td>\n",
       "    </tr>\n",
       "  </tbody>\n",
       "</table>\n",
       "<p>5 rows × 378 columns</p>\n",
       "</div>"
      ],
      "text/plain": [
       "   ID       y  X0 X1  X2 X3 X4 X5 X6 X8  ...  X375  X376  X377  X378  X379  \\\n",
       "0   0  130.81   k  v  at  a  d  u  j  o  ...     0     0     1     0     0   \n",
       "1   6   88.53   k  t  av  e  d  y  l  o  ...     1     0     0     0     0   \n",
       "2   7   76.26  az  w   n  c  d  x  j  x  ...     0     0     0     0     0   \n",
       "4  13   78.02  az  v   n  f  d  h  d  n  ...     0     0     0     0     0   \n",
       "5  18   92.93   t  b   e  c  d  g  h  s  ...     0     0     1     0     0   \n",
       "\n",
       "   X380  X382  X383  X384  X385  \n",
       "0     0     0     0     0     0  \n",
       "1     0     0     0     0     0  \n",
       "2     0     1     0     0     0  \n",
       "4     0     0     0     0     0  \n",
       "5     0     0     0     0     0  \n",
       "\n",
       "[5 rows x 378 columns]"
      ]
     },
     "execution_count": 28,
     "metadata": {},
     "output_type": "execute_result"
    }
   ],
   "source": [
    "dftrain.head()"
   ]
  },
  {
   "cell_type": "code",
   "execution_count": null,
   "metadata": {},
   "outputs": [],
   "source": []
  },
  {
   "cell_type": "code",
   "execution_count": 12,
   "metadata": {},
   "outputs": [
    {
     "name": "stderr",
     "output_type": "stream",
     "text": [
      "C:\\Users\\SavarimuthuC\\AppData\\Local\\Continuum\\anaconda3\\lib\\site-packages\\ipykernel_launcher.py:19: SettingWithCopyWarning: \n",
      "A value is trying to be set on a copy of a slice from a DataFrame.\n",
      "Try using .loc[row_indexer,col_indexer] = value instead\n",
      "\n",
      "See the caveats in the documentation: http://pandas.pydata.org/pandas-docs/stable/indexing.html#indexing-view-versus-copy\n"
     ]
    }
   ],
   "source": [
    "x_train.head()\n",
    "\n",
    "def handle_non_numerical_data(df):\n",
    "    columns = df.columns.values\n",
    "    for column in columns:\n",
    "        text_digit_vals = {}\n",
    "        def convert_to_int(val):\n",
    "            return text_digit_vals[val]\n",
    "\n",
    "        if df[column].dtype != np.int64 and df[column].dtype != np.float64:\n",
    "            column_contents = df[column].values.tolist()\n",
    "            unique_elements = set(column_contents)\n",
    "            x = 0\n",
    "            for unique in unique_elements:\n",
    "                if unique not in text_digit_vals:\n",
    "                    text_digit_vals[unique] = x\n",
    "                    x+=1\n",
    "\n",
    "            df[column] = list(map(convert_to_int, df[column]))\n",
    "\n",
    "    return df\n",
    "\n",
    "x_train_numeric  = handle_non_numerical_data(x_train)\n",
    "x_test_numeric  = handle_non_numerical_data(x_test)\n"
   ]
  },
  {
   "cell_type": "code",
   "execution_count": 31,
   "metadata": {},
   "outputs": [
    {
     "name": "stdout",
     "output_type": "stream",
     "text": [
      "[   0    1    2 ... 4194 4195 4196]\n",
      "[2462  365   69 ...  188 1762  279]\n",
      "[32 20 40  9 36 43 31 29 39 35 19 27 44 45  7  8 10 46 37 15 12 42  5  0\n",
      " 26  6 25 13 24  1 22 14 30 38 21 18 23 41  4 16 34 33 17 11  3 28  2]\n",
      "[23 21 24  3 19 13 20  1  4  0  6  9 26 11 16 22 17 15 25  5  7 10 14 12\n",
      "  8 18  2]\n",
      "[17 19 34 25 16 14 38  7  8 33  0 31  3 39 26 24  5 21  2 13 27 29 20 42\n",
      " 22 12  9 28 41 18 40 11 43  6 36 10 30 37  4 32  1 23 35 15]\n",
      "[0 4 2 5 3 1 6]\n",
      "[3 1 2 0]\n",
      "[24 28 27 12 11 10 14 13  9  8  5  6  1  2  3  4  7 16 15 18 17 20 21 23\n",
      " 22 25 26 19  0]\n",
      "[ 9 11  3  7  8  0  6  2 10  4  5  1]\n",
      "[14 23 13 18  0  7  4 15 12 10  3  8 21  9  1 16 22  6 24 11  5 20 17 19\n",
      "  2]\n"
     ]
    }
   ],
   "source": [
    "from sklearn.preprocessing import LabelEncoder\n",
    "label = LabelEncoder()\n",
    "\n",
    "for col in dftrain:\n",
    "    cardinality = len(np.unique(dftrain[col]))\n",
    "    if cardinality > 2:\n",
    "        dftrain[col]= label.fit_transform(dftrain[col]) \n",
    "        print(dftrain[col].unique())"
   ]
  },
  {
   "cell_type": "code",
   "execution_count": 33,
   "metadata": {},
   "outputs": [
    {
     "name": "stdout",
     "output_type": "stream",
     "text": [
      "[   0    1    2 ... 4201 4202 4203]\n",
      "[21 42 45 47 46 29 12 38 20  8 31 48  6 27 44  7 23 37 33 41  3 19 15 13\n",
      " 17 36 34  0 28  5 32  4 22  9 18 14 40 11 43 35 26  1 16 25 30 10  2 39\n",
      " 24]\n",
      "[23  3 13 20  1 19  0 10 17  4 16 14 26  6  9 24  8 12 25 21 22  5 11 18\n",
      " 15  7  2]\n",
      "[34  8 17  4 38 24 26 10 33  0 16  6 37 32  9 23 14 13  2  5 22 29 30 27\n",
      " 15 35 19 39 44 43 21 25 18 28 12 31 42  1 41 36  7  3 11 20 40]\n",
      "[5 0 2 4 3 6 1]\n",
      "[3 1 0 2]\n",
      "[26  9  0 31 30 29 14 13 12 16 15 11 10  6  7  2  3  4  5  8 18 17 20 19\n",
      " 22 23 25 24 27 28 21  1]\n",
      "[ 0  6  9 11  8  3  5  7  2 10  4  1]\n",
      "[22 24  9 13 12 18  0 21 17 14 19  7  2 10 15 20  3  6  1 16  4 11  5  8\n",
      " 23]\n"
     ]
    }
   ],
   "source": [
    "for col in dftest:\n",
    "    cardinality = len(np.unique(dftest[col]))\n",
    "    if cardinality > 2:\n",
    "        dftest[col]= label.fit_transform(dftest[col]) \n",
    "        print(dftest[col].unique())"
   ]
  },
  {
   "cell_type": "code",
   "execution_count": 34,
   "metadata": {},
   "outputs": [],
   "source": [
    "# Perform Dimensionality reduction\n",
    "from sklearn.decomposition import PCA\n",
    "pca = PCA()\n",
    "\n",
    "x_pca_train = pca.fit_transform(dftrain)\n",
    "x_pca_train = pd.DataFrame(x_pca_train)\n",
    "\n",
    "x_pca_test = pca.fit_transform(dftest)\n",
    "x_pca_test = pd.DataFrame(x_pca_test)"
   ]
  },
  {
   "cell_type": "code",
   "execution_count": 35,
   "metadata": {},
   "outputs": [
    {
     "data": {
      "text/html": [
       "<div>\n",
       "<style scoped>\n",
       "    .dataframe tbody tr th:only-of-type {\n",
       "        vertical-align: middle;\n",
       "    }\n",
       "\n",
       "    .dataframe tbody tr th {\n",
       "        vertical-align: top;\n",
       "    }\n",
       "\n",
       "    .dataframe thead th {\n",
       "        text-align: right;\n",
       "    }\n",
       "</style>\n",
       "<table border=\"1\" class=\"dataframe\">\n",
       "  <thead>\n",
       "    <tr style=\"text-align: right;\">\n",
       "      <th></th>\n",
       "      <th>0</th>\n",
       "      <th>1</th>\n",
       "      <th>2</th>\n",
       "      <th>3</th>\n",
       "      <th>4</th>\n",
       "      <th>5</th>\n",
       "      <th>6</th>\n",
       "      <th>7</th>\n",
       "      <th>8</th>\n",
       "      <th>9</th>\n",
       "      <th>...</th>\n",
       "      <th>368</th>\n",
       "      <th>369</th>\n",
       "      <th>370</th>\n",
       "      <th>371</th>\n",
       "      <th>372</th>\n",
       "      <th>373</th>\n",
       "      <th>374</th>\n",
       "      <th>375</th>\n",
       "      <th>376</th>\n",
       "      <th>377</th>\n",
       "    </tr>\n",
       "  </thead>\n",
       "  <tbody>\n",
       "    <tr>\n",
       "      <th>0</th>\n",
       "      <td>2154.185794</td>\n",
       "      <td>1165.200743</td>\n",
       "      <td>-4.786781</td>\n",
       "      <td>-0.702854</td>\n",
       "      <td>14.482671</td>\n",
       "      <td>1.745786</td>\n",
       "      <td>19.817401</td>\n",
       "      <td>-2.780592</td>\n",
       "      <td>3.649437</td>\n",
       "      <td>2.351891</td>\n",
       "      <td>...</td>\n",
       "      <td>3.958251e-16</td>\n",
       "      <td>1.797349e-15</td>\n",
       "      <td>1.355576e-15</td>\n",
       "      <td>5.710988e-17</td>\n",
       "      <td>1.077516e-15</td>\n",
       "      <td>9.419217e-16</td>\n",
       "      <td>8.722641e-16</td>\n",
       "      <td>-2.190205e-16</td>\n",
       "      <td>1.011035e-15</td>\n",
       "      <td>1.592399e-17</td>\n",
       "    </tr>\n",
       "    <tr>\n",
       "      <th>1</th>\n",
       "      <td>2056.077052</td>\n",
       "      <td>-929.474620</td>\n",
       "      <td>5.288395</td>\n",
       "      <td>2.149257</td>\n",
       "      <td>10.346804</td>\n",
       "      <td>2.742629</td>\n",
       "      <td>23.972400</td>\n",
       "      <td>-4.574451</td>\n",
       "      <td>-0.070812</td>\n",
       "      <td>0.471730</td>\n",
       "      <td>...</td>\n",
       "      <td>-2.181643e-13</td>\n",
       "      <td>1.888493e-14</td>\n",
       "      <td>-1.024682e-13</td>\n",
       "      <td>-5.163749e-14</td>\n",
       "      <td>-1.214563e-13</td>\n",
       "      <td>-1.194445e-13</td>\n",
       "      <td>8.569337e-14</td>\n",
       "      <td>-1.472374e-13</td>\n",
       "      <td>1.799771e-14</td>\n",
       "      <td>-4.595648e-16</td>\n",
       "    </tr>\n",
       "    <tr>\n",
       "      <th>2</th>\n",
       "      <td>2041.377578</td>\n",
       "      <td>-1225.024522</td>\n",
       "      <td>22.203674</td>\n",
       "      <td>13.223935</td>\n",
       "      <td>9.777788</td>\n",
       "      <td>13.155176</td>\n",
       "      <td>22.881499</td>\n",
       "      <td>-2.293172</td>\n",
       "      <td>1.947309</td>\n",
       "      <td>0.253023</td>\n",
       "      <td>...</td>\n",
       "      <td>-1.323751e-14</td>\n",
       "      <td>1.236964e-13</td>\n",
       "      <td>-1.199190e-13</td>\n",
       "      <td>-1.265491e-13</td>\n",
       "      <td>1.056890e-13</td>\n",
       "      <td>-7.657981e-14</td>\n",
       "      <td>2.045905e-13</td>\n",
       "      <td>3.256819e-14</td>\n",
       "      <td>1.292167e-13</td>\n",
       "      <td>-3.473189e-16</td>\n",
       "    </tr>\n",
       "    <tr>\n",
       "      <th>3</th>\n",
       "      <td>2042.159573</td>\n",
       "      <td>-1188.023668</td>\n",
       "      <td>22.444627</td>\n",
       "      <td>13.600387</td>\n",
       "      <td>8.220965</td>\n",
       "      <td>2.708829</td>\n",
       "      <td>8.282528</td>\n",
       "      <td>3.681343</td>\n",
       "      <td>-0.926964</td>\n",
       "      <td>0.911493</td>\n",
       "      <td>...</td>\n",
       "      <td>1.402916e-14</td>\n",
       "      <td>-1.201017e-13</td>\n",
       "      <td>1.226301e-13</td>\n",
       "      <td>1.266633e-13</td>\n",
       "      <td>-1.035339e-13</td>\n",
       "      <td>7.846365e-14</td>\n",
       "      <td>-2.028459e-13</td>\n",
       "      <td>-3.300623e-14</td>\n",
       "      <td>-1.271946e-13</td>\n",
       "      <td>3.791668e-16</td>\n",
       "    </tr>\n",
       "    <tr>\n",
       "      <th>4</th>\n",
       "      <td>2071.086776</td>\n",
       "      <td>-542.790133</td>\n",
       "      <td>-7.292848</td>\n",
       "      <td>9.519634</td>\n",
       "      <td>-4.629576</td>\n",
       "      <td>7.456396</td>\n",
       "      <td>6.623916</td>\n",
       "      <td>0.247062</td>\n",
       "      <td>1.278742</td>\n",
       "      <td>-0.677049</td>\n",
       "      <td>...</td>\n",
       "      <td>1.454530e-13</td>\n",
       "      <td>5.172425e-14</td>\n",
       "      <td>-1.610029e-13</td>\n",
       "      <td>8.323005e-14</td>\n",
       "      <td>-1.158930e-13</td>\n",
       "      <td>2.557448e-16</td>\n",
       "      <td>-1.331470e-13</td>\n",
       "      <td>-8.493254e-14</td>\n",
       "      <td>-2.910990e-14</td>\n",
       "      <td>-1.637478e-16</td>\n",
       "    </tr>\n",
       "  </tbody>\n",
       "</table>\n",
       "<p>5 rows × 378 columns</p>\n",
       "</div>"
      ],
      "text/plain": [
       "           0            1          2          3          4          5    \\\n",
       "0  2154.185794  1165.200743  -4.786781  -0.702854  14.482671   1.745786   \n",
       "1  2056.077052  -929.474620   5.288395   2.149257  10.346804   2.742629   \n",
       "2  2041.377578 -1225.024522  22.203674  13.223935   9.777788  13.155176   \n",
       "3  2042.159573 -1188.023668  22.444627  13.600387   8.220965   2.708829   \n",
       "4  2071.086776  -542.790133  -7.292848   9.519634  -4.629576   7.456396   \n",
       "\n",
       "         6         7         8         9    ...           368           369  \\\n",
       "0  19.817401 -2.780592  3.649437  2.351891  ...  3.958251e-16  1.797349e-15   \n",
       "1  23.972400 -4.574451 -0.070812  0.471730  ... -2.181643e-13  1.888493e-14   \n",
       "2  22.881499 -2.293172  1.947309  0.253023  ... -1.323751e-14  1.236964e-13   \n",
       "3   8.282528  3.681343 -0.926964  0.911493  ...  1.402916e-14 -1.201017e-13   \n",
       "4   6.623916  0.247062  1.278742 -0.677049  ...  1.454530e-13  5.172425e-14   \n",
       "\n",
       "            370           371           372           373           374  \\\n",
       "0  1.355576e-15  5.710988e-17  1.077516e-15  9.419217e-16  8.722641e-16   \n",
       "1 -1.024682e-13 -5.163749e-14 -1.214563e-13 -1.194445e-13  8.569337e-14   \n",
       "2 -1.199190e-13 -1.265491e-13  1.056890e-13 -7.657981e-14  2.045905e-13   \n",
       "3  1.226301e-13  1.266633e-13 -1.035339e-13  7.846365e-14 -2.028459e-13   \n",
       "4 -1.610029e-13  8.323005e-14 -1.158930e-13  2.557448e-16 -1.331470e-13   \n",
       "\n",
       "            375           376           377  \n",
       "0 -2.190205e-16  1.011035e-15  1.592399e-17  \n",
       "1 -1.472374e-13  1.799771e-14 -4.595648e-16  \n",
       "2  3.256819e-14  1.292167e-13 -3.473189e-16  \n",
       "3 -3.300623e-14 -1.271946e-13  3.791668e-16  \n",
       "4 -8.493254e-14 -2.910990e-14 -1.637478e-16  \n",
       "\n",
       "[5 rows x 378 columns]"
      ]
     },
     "execution_count": 35,
     "metadata": {},
     "output_type": "execute_result"
    }
   ],
   "source": [
    "x_pca_train.head()"
   ]
  },
  {
   "cell_type": "code",
   "execution_count": 39,
   "metadata": {},
   "outputs": [
    {
     "ename": "ModuleNotFoundError",
     "evalue": "No module named 'xgboost'",
     "output_type": "error",
     "traceback": [
      "\u001b[1;31m---------------------------------------------------------------------------\u001b[0m",
      "\u001b[1;31mModuleNotFoundError\u001b[0m                       Traceback (most recent call last)",
      "\u001b[1;32m<ipython-input-39-ddd282fafa39>\u001b[0m in \u001b[0;36m<module>\u001b[1;34m\u001b[0m\n\u001b[1;32m----> 1\u001b[1;33m \u001b[1;32mfrom\u001b[0m \u001b[0mxgboost\u001b[0m \u001b[1;32mimport\u001b[0m \u001b[0mxgb\u001b[0m\u001b[1;33m\u001b[0m\u001b[1;33m\u001b[0m\u001b[0m\n\u001b[0m\u001b[0;32m      2\u001b[0m \u001b[1;32mfrom\u001b[0m \u001b[0msklearn\u001b[0m\u001b[1;33m.\u001b[0m\u001b[0mmodel_selection\u001b[0m \u001b[1;32mimport\u001b[0m \u001b[0mtrain_test_split\u001b[0m\u001b[1;33m\u001b[0m\u001b[1;33m\u001b[0m\u001b[0m\n\u001b[0;32m      3\u001b[0m \u001b[1;32mfrom\u001b[0m \u001b[0msklearn\u001b[0m\u001b[1;33m.\u001b[0m\u001b[0mmetrics\u001b[0m \u001b[1;32mimport\u001b[0m \u001b[0maccuracy_score\u001b[0m\u001b[1;33m\u001b[0m\u001b[1;33m\u001b[0m\u001b[0m\n\u001b[0;32m      4\u001b[0m \u001b[1;33m\u001b[0m\u001b[0m\n\u001b[0;32m      5\u001b[0m x_train, x_test, y_train, y_test = train_test_split(\n",
      "\u001b[1;31mModuleNotFoundError\u001b[0m: No module named 'xgboost'"
     ]
    }
   ],
   "source": [
    "from xgboost import xgb\n",
    "from sklearn.model_selection import train_test_split\n",
    "from sklearn.metrics import accuracy_score\n",
    "\n",
    "x_train, x_test, y_train, y_test = train_test_split(\n",
    "        x_pca_train, \n",
    "        y_train, test_size=0.2, \n",
    "        random_state=4242)\n",
    "\n",
    "d_train = xgb.DMatrix(x_train, label=y_train)\n",
    "d_valid = xgb.DMatrix(x_tes, label=y_valid)\n",
    "d_test = xgb.DMatrix(x_pca_test)\n",
    "\n",
    "params = {}\n",
    "params['objective'] = 'reg:linear'\n",
    "params['eta'] = 0.02\n",
    "params['max_depth'] = 4\n",
    "\n",
    "def xgb_r2_score(preds, dtrain):\n",
    "    labels = dtrain.get_label()\n",
    "    return 'r2', r2_score(labels, preds)\n",
    "\n",
    "watchlist = [(d_train, 'train'), (d_valid, 'valid')]\n",
    "\n",
    "clf = xgb.train(params, d_train, \n",
    "                1000, watchlist, early_stopping_rounds=50, \n",
    "                feval=xgb_r2_score, maximize=True, verbose_eval=10)"
   ]
  },
  {
   "cell_type": "code",
   "execution_count": 40,
   "metadata": {},
   "outputs": [
    {
     "data": {
      "text/plain": [
       "'C:\\\\Users\\\\SavarimuthuC'"
      ]
     },
     "execution_count": 40,
     "metadata": {},
     "output_type": "execute_result"
    }
   ],
   "source": [
    "\n",
    "pwd\n"
   ]
  }
 ],
 "metadata": {
  "kernelspec": {
   "display_name": "Python 3",
   "language": "python",
   "name": "python3"
  },
  "language_info": {
   "codemirror_mode": {
    "name": "ipython",
    "version": 3
   },
   "file_extension": ".py",
   "mimetype": "text/x-python",
   "name": "python",
   "nbconvert_exporter": "python",
   "pygments_lexer": "ipython3",
   "version": "3.7.3"
  }
 },
 "nbformat": 4,
 "nbformat_minor": 2
}
